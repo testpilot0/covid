{
 "cells": [
  {
   "cell_type": "markdown",
   "metadata": {},
   "source": [
    "# Demo: Model virus mutation"
   ]
  },
  {
   "cell_type": "code",
   "execution_count": 2,
   "metadata": {},
   "outputs": [
    {
     "name": "stdout",
     "output_type": "stream",
     "text": [
      "GCP project ID:covid-19-271622\n"
     ]
    }
   ],
   "source": [
    "# Read GCP project id from env.\n",
    "shell_output=!gcloud config list --format 'value(core.project)' 2>/dev/null\n",
    "GCP_PROJECT_ID=shell_output[0]\n",
    "print(\"GCP project ID:\" + GCP_PROJECT_ID)"
   ]
  },
  {
   "cell_type": "markdown",
   "metadata": {},
   "source": [
    "# Virus Mutation (SANTA-SIM)\n",
    " \n",
    "We will explore how model perform when virus mutate. SANTA is JAVA software application that simulates the evolution of a population of gene sequences forwards through time. It models the underlying biological processes as discrete components; replication (including recombination), mutation (including indels), fitness and selection. SANTA is easy to use and is well-suited to simulate pathogen evolution according to different scenarios. \n",
    "\n",
    "+ The population in SANTA consists of individual organisms each of which contains a genome.  \n",
    "+ The evolutionary process in SANTA is divided into a sequence of discrete components. Different processes can be selected for each of these components so that complex evolutionary interactions can be modeled.  \n",
    "+ The fitness of each genome is calculated using one or more fitness functions. Different fitness functions can be defined for the nucleotide sequence and its amino acid translation.   \n",
    "+ The next generation of individuals then selects their parents from the previous generation.    \n",
    "+ Mutation models the action of the polymerase, it is done as an independent process after replication. The user specifies a per-site, per-generation probability of mutation. The mutator component then applies mutations to the genome accordingly.  \n",
    "\n",
    "We can leverage [Google Dataproc](https://pantheon.corp.google.com/dataproc/notebooks/instances?project=covid-19-271622) to explore multiple mutation scenarios in parallel\n",
    "First we will have to install software: java, ant and [santa-sim](https://github.com/santa-dev/santa-sim) software to perform [virus mutation simulations](https://5t7n4xhkjfgevepr3gf6adhxoq-dot-us-central1.dataproc.googleusercontent.com/jupyter/lab?authuser=0)\n",
    " "
   ]
  },
  {
   "cell_type": "code",
   "execution_count": null,
   "metadata": {},
   "outputs": [],
   "source": [
    "!gunzip jdk-14.0.1_linux-x64_bin.tar.gz"
   ]
  },
  {
   "cell_type": "code",
   "execution_count": null,
   "metadata": {},
   "outputs": [],
   "source": [
    "!tar -xvf jdk-14.0.1_linux-x64_bin.tar"
   ]
  },
  {
   "cell_type": "code",
   "execution_count": 37,
   "metadata": {},
   "outputs": [
    {
     "name": "stdout",
     "output_type": "stream",
     "text": [
      "env: PATH=/usr/local/cuda/bin:/opt/conda/bin:/opt/conda/condabin:/usr/local/bin:/usr/bin:/bin:/usr/local/games:/usr/games:/home/jupyter/AIHub/jdk-14.0.1/bin\n"
     ]
    }
   ],
   "source": [
    "# Set `PATH` to include java binary directory  \n",
    "PATH=%env PATH\n",
    "%env PATH={PATH}:/home/jupyter/AIHub/jdk-14.0.1/bin"
   ]
  },
  {
   "cell_type": "code",
   "execution_count": 39,
   "metadata": {},
   "outputs": [
    {
     "name": "stdout",
     "output_type": "stream",
     "text": [
      "java version \"14.0.1\" 2020-04-14\n",
      "Java(TM) SE Runtime Environment (build 14.0.1+7)\n",
      "Java HotSpot(TM) 64-Bit Server VM (build 14.0.1+7, mixed mode, sharing)\n"
     ]
    }
   ],
   "source": [
    "!java -version"
   ]
  },
  {
   "cell_type": "code",
   "execution_count": null,
   "metadata": {},
   "outputs": [],
   "source": [
    "!sudo tar -xzvf apache-ant-1.9.15-bin.tar.gz"
   ]
  },
  {
   "cell_type": "code",
   "execution_count": 47,
   "metadata": {},
   "outputs": [
    {
     "name": "stdout",
     "output_type": "stream",
     "text": [
      "env: ANT_HOME=/home/jupyter/AIHub/apache-ant-1.9.15/\n",
      "env: JAVA_HOME=/home/jupyter/AIHub/jdk-14.0.1/\n",
      "env: PATH=/usr/local/cuda/bin:/opt/conda/bin:/opt/conda/condabin:/usr/local/bin:/usr/bin:/bin:/usr/local/games:/usr/games:/home/jupyter/AIHub/jdk-14.0.1/bin:/home/jupyter/AIHub/jdk-14.0.1/bin:/home/jupyter/AIHib/apache-ant-1.9.15/bin:/home/jupyter/AIHub/jdk-14.0.1/bin:/home/jupyter/AIHubb/apache-ant-1.9.15/bin:/home/jupyter/AIHub/jdk-14.0.1/bin:/home/jupyter/AIHub/apache-ant-1.9.15/bin\n"
     ]
    }
   ],
   "source": [
    "# Set `PATH` to include java and ant binary directory  \n",
    "PATH=%env PATH\n",
    "%env ANT_HOME=/home/jupyter/AIHub/apache-ant-1.9.15/\n",
    "%env JAVA_HOME=/home/jupyter/AIHub/jdk-14.0.1/\n",
    "%env PATH={PATH}:/home/jupyter/AIHub/jdk-14.0.1/bin:/home/jupyter/AIHub/apache-ant-1.9.15/bin"
   ]
  },
  {
   "cell_type": "code",
   "execution_count": null,
   "metadata": {},
   "outputs": [],
   "source": [
    "!unzip santa-sim-master.zip"
   ]
  },
  {
   "cell_type": "code",
   "execution_count": 43,
   "metadata": {},
   "outputs": [
    {
     "name": "stdout",
     "output_type": "stream",
     "text": [
      "/home/jupyter/AIHub/santa-sim-master\n"
     ]
    }
   ],
   "source": [
    "cd santa-sim-master"
   ]
  },
  {
   "cell_type": "code",
   "execution_count": 49,
   "metadata": {},
   "outputs": [
    {
     "name": "stdout",
     "output_type": "stream",
     "text": [
      "Buildfile: /home/jupyter/AIHub/santa-sim-master/build.xml\n",
      "\n",
      "install-ivy:\n",
      "\n",
      "resolve:\n",
      "[ivy:retrieve] :: Apache Ivy 2.4.0 - 20141213170938 :: http://ant.apache.org/ivy/ ::\n",
      "[ivy:retrieve] :: loading settings :: url = jar:file:/home/jupyter/.ant/lib/ivy.jar!/org/apache/ivy/core/settings/ivysettings.xml\n",
      "WARNING: An illegal reflective access operation has occurred\n",
      "WARNING: Illegal reflective access by org.apache.ivy.util.url.IvyAuthenticator (file:/home/jupyter/.ant/lib/ivy.jar) to field java.net.Authenticator.theAuthenticator\n",
      "WARNING: Please consider reporting this to the maintainers of org.apache.ivy.util.url.IvyAuthenticator\n",
      "WARNING: Use --illegal-access=warn to enable warnings of further illegal reflective access operations\n",
      "WARNING: All illegal access operations will be denied in a future release\n",
      "\n",
      "init:\n",
      "    [mkdir] Created dir: /home/jupyter/AIHub/santa-sim-master/build\n",
      "    [mkdir] Created dir: /home/jupyter/AIHub/santa-sim-master/dist\n",
      "\n",
      "compile:\n",
      "    [javac] Compiling 81 source files to /home/jupyter/AIHub/santa-sim-master/build\n",
      "    [javac] warning: [options] bootstrap class path not set in conjunction with -source 8\n",
      "    [javac] /home/jupyter/AIHub/santa-sim-master/src/santa/simulator/genomes/Mutations.java:117: warning: [deprecation] Integer(int) in Integer has been deprecated\n",
      "    [javac]             positions[i] = new Integer(i);\n",
      "    [javac]                            ^\n",
      "    [javac] /home/jupyter/AIHub/santa-sim-master/src/santa/simulator/genomes/Mutations.java:122: warning: [deprecation] Byte(byte) in Byte has been deprecated\n",
      "    [javac]             states[i] = new Byte(i);\n",
      "    [javac]                         ^\n",
      "    [javac] 3 warnings\n",
      "\n",
      "dist:\n",
      "      [jar] Building jar: /home/jupyter/AIHub/santa-sim-master/dist/santa.jar\n",
      "      [jar] Building jar: /home/jupyter/AIHub/santa-sim-master/dist/santa-minimal.jar\n",
      "\n",
      "post-build:\n",
      "     [echo] \n",
      "     [echo]       SANTA has been packaged into a self-contained executable JAR file in /home/jupyter/AIHub/santa-sim-master/dist/santa.jar\n",
      "     [echo] \n",
      "     [echo]       Test your build with,\n",
      "     [echo]           java -jar /home/jupyter/AIHub/santa-sim-master/dist/santa.jar  examples/neutral.xml\n",
      "     [echo]       \n",
      "     [echo]       More information on configuring SANTA can be found at\n",
      "     [echo]       http://github.com/santa-dev/santa-sim/wiki\n",
      "     [echo]     \n",
      "\n",
      "BUILD SUCCESSFUL\n",
      "Total time: 6 seconds\n"
     ]
    }
   ],
   "source": [
    "!ant"
   ]
  },
  {
   "cell_type": "markdown",
   "metadata": {},
   "source": [
    "## Run simulation to explore mutations"
   ]
  },
  {
   "cell_type": "code",
   "execution_count": 3,
   "metadata": {},
   "outputs": [
    {
     "name": "stdout",
     "output_type": "stream",
     "text": [
      "env: ANT_HOME=/home/jupyter/AIHub/apache-ant-1.9.15/\n",
      "env: JAVA_HOME=/home/jupyter/AIHub/jdk-14.0.1/\n",
      "env: PATH=/usr/local/cuda/bin:/opt/conda/bin:/opt/conda/condabin:/usr/local/bin:/usr/bin:/bin:/usr/local/games:/usr/games:/home/jupyter/AIHub/jdk-14.0.1/bin:/home/jupyter/AIHub/apache-ant-1.9.15/bin\n"
     ]
    }
   ],
   "source": [
    "# Set `PATH` to include java and ant binary directory  \n",
    "PATH=%env PATH\n",
    "%env ANT_HOME=/home/jupyter/AIHub/apache-ant-1.9.15/\n",
    "%env JAVA_HOME=/home/jupyter/AIHub/jdk-14.0.1/\n",
    "%env PATH={PATH}:/home/jupyter/AIHub/jdk-14.0.1/bin:/home/jupyter/AIHub/apache-ant-1.9.15/bin"
   ]
  },
  {
   "cell_type": "code",
   "execution_count": 4,
   "metadata": {},
   "outputs": [
    {
     "data": {
      "text/plain": [
       "'/home/jupyter/AIHub/PublicBQ/Demos'"
      ]
     },
     "execution_count": 4,
     "metadata": {},
     "output_type": "execute_result"
    }
   ],
   "source": [
    "pwd"
   ]
  },
  {
   "cell_type": "code",
   "execution_count": 5,
   "metadata": {},
   "outputs": [
    {
     "name": "stdout",
     "output_type": "stream",
     "text": [
      "/home/jupyter/AIHub/santa-sim-master\n"
     ]
    }
   ],
   "source": [
    "cd ../../santa-sim-master"
   ]
  },
  {
   "cell_type": "code",
   "execution_count": 28,
   "metadata": {},
   "outputs": [
    {
     "name": "stdout",
     "output_type": "stream",
     "text": [
      "Seed: 1596006391331\n",
      "Jul 29, 2020 7:06:31 AM santa.simulator.Simulator run\n",
      "INFO: Replicate 1\n",
      "Jul 29, 2020 7:06:31 AM santa.simulator.Simulator run\n",
      "INFO: Replicate 1\n",
      "Starting epoch: (unnamed)\n",
      "Initial population:  fitness = 1.0, distance = 0.0, max freq = 10000, genepool size = 1 (0 available)\n",
      "Generation 100:  fitness = 1.0, distance = 35.9001, max freq = 12, genepool size = 7319 (3299 available)\n",
      "Generation 200:  fitness = 1.0, distance = 71.7807, max freq = 10, genepool size = 7276 (3342 available)\n",
      "Generation 300:  fitness = 1.0, distance = 107.7143, max freq = 11, genepool size = 7265 (3353 available)\n",
      "Generation 400:  fitness = 1.0, distance = 143.2131, max freq = 10, genepool size = 7272 (3365 available)\n",
      "Generation 500:  fitness = 1.0, distance = 179.3326, max freq = 8, genepool size = 7359 (3288 available)\n",
      "Generation 600:  fitness = 1.0, distance = 215.22, max freq = 10, genepool size = 7250 (3397 available)\n",
      "Generation 700:  fitness = 1.0, distance = 250.3581, max freq = 9, genepool size = 7393 (3277 available)\n",
      "Generation 800:  fitness = 1.0, distance = 286.2716, max freq = 14, genepool size = 7383 (3287 available)\n",
      "Generation 900:  fitness = 1.0, distance = 322.3443, max freq = 11, genepool size = 7286 (3384 available)\n",
      "Generation 1000:  fitness = 1.0, distance = 357.9478, max freq = 11, genepool size = 7257 (3413 available)\n",
      "Jul 29, 2020 7:07:20 AM santa.simulator.Simulator run\n",
      "INFO: Replicate 2\n",
      "Jul 29, 2020 7:07:20 AM santa.simulator.Simulator run\n",
      "INFO: Replicate 2\n",
      "Starting epoch: (unnamed)\n",
      "Initial population:  fitness = 1.0, distance = 0.0, max freq = 10000, genepool size = 1 (0 available)\n",
      "Generation 100:  fitness = 1.0, distance = 35.7813, max freq = 10, genepool size = 7297 (3368 available)\n",
      "Generation 200:  fitness = 1.0, distance = 71.6905, max freq = 8, genepool size = 7308 (3357 available)\n",
      "Generation 300:  fitness = 1.0, distance = 107.2845, max freq = 9, genepool size = 7287 (3378 available)\n",
      "Generation 400:  fitness = 1.0, distance = 143.1449, max freq = 9, genepool size = 7246 (3419 available)\n",
      "Generation 500:  fitness = 1.0, distance = 179.0413, max freq = 11, genepool size = 7368 (3297 available)\n",
      "Generation 600:  fitness = 1.0, distance = 214.7298, max freq = 13, genepool size = 7363 (3302 available)\n",
      "Generation 700:  fitness = 1.0, distance = 250.6067, max freq = 12, genepool size = 7352 (3313 available)\n",
      "Generation 800:  fitness = 1.0, distance = 286.4152, max freq = 9, genepool size = 7292 (3373 available)\n",
      "Generation 900:  fitness = 1.0, distance = 322.092, max freq = 10, genepool size = 7268 (3397 available)\n",
      "Generation 1000:  fitness = 1.0, distance = 356.9769, max freq = 9, genepool size = 7308 (3391 available)\n",
      "Jul 29, 2020 7:08:07 AM santa.simulator.Simulator run\n",
      "INFO: Replicate 3\n",
      "Jul 29, 2020 7:08:07 AM santa.simulator.Simulator run\n",
      "INFO: Replicate 3\n",
      "Starting epoch: (unnamed)\n",
      "Initial population:  fitness = 1.0, distance = 0.0, max freq = 10000, genepool size = 1 (0 available)\n",
      "Generation 100:  fitness = 1.0, distance = 35.791, max freq = 10, genepool size = 7315 (3320 available)\n",
      "Generation 200:  fitness = 1.0, distance = 71.5208, max freq = 14, genepool size = 7234 (3431 available)\n",
      "Generation 300:  fitness = 1.0, distance = 107.3598, max freq = 13, genepool size = 7312 (3353 available)\n",
      "Generation 400:  fitness = 1.0, distance = 142.846, max freq = 13, genepool size = 7270 (3433 available)\n",
      "Generation 500:  fitness = 1.0, distance = 178.7016, max freq = 12, genepool size = 7307 (3396 available)\n",
      "Generation 600:  fitness = 1.0, distance = 214.3927, max freq = 11, genepool size = 7263 (3440 available)\n",
      "Generation 700:  fitness = 1.0, distance = 249.7787, max freq = 11, genepool size = 7286 (3417 available)\n",
      "Generation 800:  fitness = 1.0, distance = 285.5567, max freq = 9, genepool size = 7371 (3332 available)\n",
      "Generation 900:  fitness = 1.0, distance = 321.492, max freq = 11, genepool size = 7345 (3358 available)\n",
      "Generation 1000:  fitness = 1.0, distance = 357.2051, max freq = 10, genepool size = 7390 (3313 available)\n",
      "Jul 29, 2020 7:08:54 AM santa.simulator.Simulator run\n",
      "INFO: Replicate 4\n",
      "Jul 29, 2020 7:08:54 AM santa.simulator.Simulator run\n",
      "INFO: Replicate 4\n",
      "Starting epoch: (unnamed)\n",
      "Initial population:  fitness = 1.0, distance = 0.0, max freq = 10000, genepool size = 1 (0 available)\n",
      "Generation 100:  fitness = 1.0, distance = 35.7888, max freq = 12, genepool size = 7326 (3314 available)\n",
      "Generation 200:  fitness = 1.0, distance = 71.5813, max freq = 10, genepool size = 7278 (3388 available)\n",
      "Generation 300:  fitness = 1.0, distance = 107.1475, max freq = 11, genepool size = 7272 (3394 available)\n",
      "Generation 400:  fitness = 1.0, distance = 142.9461, max freq = 9, genepool size = 7322 (3344 available)\n",
      "Generation 500:  fitness = 1.0, distance = 178.496, max freq = 10, genepool size = 7356 (3339 available)\n",
      "Generation 600:  fitness = 1.0, distance = 213.95, max freq = 10, genepool size = 7281 (3414 available)\n",
      "Generation 700:  fitness = 1.0, distance = 249.8998, max freq = 10, genepool size = 7354 (3341 available)\n",
      "Generation 800:  fitness = 1.0, distance = 285.6158, max freq = 8, genepool size = 7299 (3396 available)\n",
      "Generation 900:  fitness = 1.0, distance = 321.0961, max freq = 11, genepool size = 7400 (3295 available)\n",
      "Generation 1000:  fitness = 1.0, distance = 356.8165, max freq = 10, genepool size = 7353 (3342 available)\n",
      "Jul 29, 2020 7:09:42 AM santa.simulator.Simulator run\n",
      "INFO: Replicate 5\n",
      "Jul 29, 2020 7:09:42 AM santa.simulator.Simulator run\n",
      "INFO: Replicate 5\n",
      "Starting epoch: (unnamed)\n",
      "Initial population:  fitness = 1.0, distance = 0.0, max freq = 10000, genepool size = 1 (0 available)\n",
      "Generation 100:  fitness = 1.0, distance = 35.733, max freq = 11, genepool size = 7312 (3339 available)\n",
      "Generation 200:  fitness = 1.0, distance = 71.144, max freq = 11, genepool size = 7346 (3372 available)\n",
      "Generation 300:  fitness = 1.0, distance = 106.6721, max freq = 11, genepool size = 7345 (3373 available)\n",
      "Generation 400:  fitness = 1.0, distance = 142.3592, max freq = 13, genepool size = 7376 (3342 available)\n",
      "Generation 500:  fitness = 1.0, distance = 178.1, max freq = 11, genepool size = 7275 (3443 available)\n",
      "Generation 600:  fitness = 1.0, distance = 213.9937, max freq = 7, genepool size = 7248 (3470 available)\n",
      "Generation 700:  fitness = 1.0, distance = 249.453, max freq = 11, genepool size = 7329 (3389 available)\n",
      "Generation 800:  fitness = 1.0, distance = 285.2522, max freq = 12, genepool size = 7196 (3522 available)\n",
      "Generation 900:  fitness = 1.0, distance = 320.8881, max freq = 12, genepool size = 7292 (3426 available)\n",
      "Generation 1000:  fitness = 1.0, distance = 356.4636, max freq = 15, genepool size = 7360 (3358 available)\n",
      "Jul 29, 2020 7:10:29 AM santa.simulator.Simulator run\n",
      "INFO: Replicate 6\n",
      "Jul 29, 2020 7:10:29 AM santa.simulator.Simulator run\n",
      "INFO: Replicate 6\n",
      "Starting epoch: (unnamed)\n",
      "Initial population:  fitness = 1.0, distance = 0.0, max freq = 10000, genepool size = 1 (0 available)\n",
      "Generation 100:  fitness = 1.0, distance = 35.8862, max freq = 10, genepool size = 7369 (3270 available)\n",
      "Generation 200:  fitness = 1.0, distance = 71.5725, max freq = 11, genepool size = 7236 (3424 available)\n",
      "Generation 300:  fitness = 1.0, distance = 107.437, max freq = 10, genepool size = 7296 (3364 available)\n",
      "Generation 400:  fitness = 1.0, distance = 143.4587, max freq = 12, genepool size = 7355 (3305 available)\n",
      "Generation 500:  fitness = 1.0, distance = 179.1219, max freq = 11, genepool size = 7264 (3396 available)\n",
      "Generation 600:  fitness = 1.0, distance = 215.2194, max freq = 10, genepool size = 7297 (3363 available)\n",
      "Generation 700:  fitness = 1.0, distance = 250.9277, max freq = 10, genepool size = 7140 (3520 available)\n",
      "Generation 800:  fitness = 1.0, distance = 286.7891, max freq = 14, genepool size = 7370 (3290 available)\n",
      "Generation 900:  fitness = 1.0, distance = 322.7001, max freq = 12, genepool size = 7294 (3366 available)\n",
      "Generation 1000:  fitness = 1.0, distance = 358.6145, max freq = 10, genepool size = 7387 (3273 available)\n",
      "Jul 29, 2020 7:11:16 AM santa.simulator.Simulator run\n",
      "INFO: Replicate 7\n",
      "Jul 29, 2020 7:11:16 AM santa.simulator.Simulator run\n",
      "INFO: Replicate 7\n",
      "Starting epoch: (unnamed)\n",
      "Initial population:  fitness = 1.0, distance = 0.0, max freq = 10000, genepool size = 1 (0 available)\n",
      "Generation 100:  fitness = 1.0, distance = 35.823, max freq = 11, genepool size = 7278 (3332 available)\n",
      "Generation 200:  fitness = 1.0, distance = 71.8456, max freq = 10, genepool size = 7327 (3303 available)\n",
      "Generation 300:  fitness = 1.0, distance = 107.3219, max freq = 8, genepool size = 7336 (3333 available)\n",
      "Generation 400:  fitness = 1.0, distance = 143.1612, max freq = 9, genepool size = 7361 (3308 available)\n",
      "Generation 500:  fitness = 1.0, distance = 178.9885, max freq = 12, genepool size = 7316 (3353 available)\n",
      "Generation 600:  fitness = 1.0, distance = 214.8283, max freq = 11, genepool size = 7300 (3369 available)\n",
      "Generation 700:  fitness = 1.0, distance = 250.151, max freq = 11, genepool size = 7260 (3438 available)\n",
      "Generation 800:  fitness = 1.0, distance = 285.5368, max freq = 9, genepool size = 7321 (3377 available)\n",
      "Generation 900:  fitness = 1.0, distance = 321.764, max freq = 12, genepool size = 7322 (3376 available)\n",
      "Generation 1000:  fitness = 1.0, distance = 357.3446, max freq = 9, genepool size = 7256 (3442 available)\n",
      "Jul 29, 2020 7:12:02 AM santa.simulator.Simulator run\n",
      "INFO: Replicate 8\n",
      "Jul 29, 2020 7:12:02 AM santa.simulator.Simulator run\n",
      "INFO: Replicate 8\n",
      "Starting epoch: (unnamed)\n",
      "Initial population:  fitness = 1.0, distance = 0.0, max freq = 10000, genepool size = 1 (0 available)\n",
      "Generation 100:  fitness = 1.0, distance = 35.7208, max freq = 9, genepool size = 7299 (3388 available)\n",
      "Generation 200:  fitness = 1.0, distance = 71.5746, max freq = 11, genepool size = 7229 (3458 available)\n",
      "Generation 300:  fitness = 1.0, distance = 107.2056, max freq = 9, genepool size = 7333 (3354 available)\n",
      "Generation 400:  fitness = 1.0, distance = 142.8316, max freq = 10, genepool size = 7308 (3379 available)\n",
      "Generation 500:  fitness = 1.0, distance = 178.751, max freq = 10, genepool size = 7428 (3259 available)\n",
      "Generation 600:  fitness = 1.0, distance = 214.5641, max freq = 13, genepool size = 7331 (3356 available)\n",
      "Generation 700:  fitness = 1.0, distance = 250.2024, max freq = 9, genepool size = 7257 (3430 available)\n",
      "Generation 800:  fitness = 1.0, distance = 286.0671, max freq = 10, genepool size = 7294 (3393 available)\n",
      "Generation 900:  fitness = 1.0, distance = 322.076, max freq = 11, genepool size = 7238 (3449 available)\n",
      "Generation 1000:  fitness = 1.0, distance = 357.5192, max freq = 9, genepool size = 7331 (3356 available)\n",
      "Jul 29, 2020 7:12:49 AM santa.simulator.Simulator run\n",
      "INFO: Replicate 9\n",
      "Jul 29, 2020 7:12:49 AM santa.simulator.Simulator run\n",
      "INFO: Replicate 9\n",
      "Starting epoch: (unnamed)\n",
      "Initial population:  fitness = 1.0, distance = 0.0, max freq = 10000, genepool size = 1 (0 available)\n",
      "Generation 100:  fitness = 1.0, distance = 35.8134, max freq = 9, genepool size = 7245 (3388 available)\n",
      "Generation 200:  fitness = 1.0, distance = 71.5504, max freq = 10, genepool size = 7312 (3362 available)\n",
      "Generation 300:  fitness = 1.0, distance = 107.4078, max freq = 9, genepool size = 7280 (3394 available)\n",
      "Generation 400:  fitness = 1.0, distance = 143.335, max freq = 10, genepool size = 7375 (3299 available)\n",
      "Generation 500:  fitness = 1.0, distance = 178.9347, max freq = 9, genepool size = 7350 (3324 available)\n",
      "Generation 600:  fitness = 1.0, distance = 214.8049, max freq = 16, genepool size = 7233 (3441 available)\n",
      "Generation 700:  fitness = 1.0, distance = 250.836, max freq = 9, genepool size = 7344 (3330 available)\n",
      "Generation 800:  fitness = 1.0, distance = 286.4316, max freq = 9, genepool size = 7278 (3396 available)\n",
      "Generation 900:  fitness = 1.0, distance = 321.9819, max freq = 10, genepool size = 7260 (3447 available)\n",
      "Generation 1000:  fitness = 1.0, distance = 356.8439, max freq = 9, genepool size = 7288 (3419 available)\n",
      "Jul 29, 2020 7:13:36 AM santa.simulator.Simulator run\n",
      "INFO: Replicate 10\n",
      "Jul 29, 2020 7:13:36 AM santa.simulator.Simulator run\n",
      "INFO: Replicate 10\n",
      "Starting epoch: (unnamed)\n",
      "Initial population:  fitness = 1.0, distance = 0.0, max freq = 10000, genepool size = 1 (0 available)\n",
      "Generation 100:  fitness = 1.0, distance = 35.6685, max freq = 10, genepool size = 7296 (3358 available)\n",
      "Generation 200:  fitness = 1.0, distance = 71.3608, max freq = 11, genepool size = 7321 (3357 available)\n",
      "Generation 300:  fitness = 1.0, distance = 107.1953, max freq = 9, genepool size = 7304 (3378 available)\n",
      "Generation 400:  fitness = 1.0, distance = 142.8892, max freq = 9, genepool size = 7358 (3324 available)\n",
      "Generation 500:  fitness = 1.0, distance = 178.6499, max freq = 12, genepool size = 7327 (3355 available)\n",
      "Generation 600:  fitness = 1.0, distance = 214.5936, max freq = 10, genepool size = 7382 (3300 available)\n",
      "Generation 700:  fitness = 1.0, distance = 249.7983, max freq = 9, genepool size = 7344 (3338 available)\n",
      "Generation 800:  fitness = 1.0, distance = 285.8349, max freq = 11, genepool size = 7304 (3378 available)\n",
      "Generation 900:  fitness = 1.0, distance = 321.7591, max freq = 9, genepool size = 7317 (3365 available)\n",
      "Generation 1000:  fitness = 1.0, distance = 357.4878, max freq = 11, genepool size = 7295 (3387 available)\n"
     ]
    }
   ],
   "source": [
    "!java -jar /home/jupyter/AIHub/santa-sim-master/dist/santa.jar  examples/covid.xml"
   ]
  },
  {
   "cell_type": "markdown",
   "metadata": {},
   "source": [
    "## Translation\n",
    "Now we will leverage open source library to perform mutated RNA translation and we will \n",
    "explore areas responcible for vareous proteins which might be our targets\n",
    "\n",
    "+ Copy neurtal.xml to new covid.xml and add COVID-19 sequence to xml\n",
    "++ https://github.com/geohot/corona\n",
    "++ https://github.com/nextstrain/ncov\n",
    "++ https://github.com/galaxyproject/SARS-CoV-2\n",
    "    "
   ]
  },
  {
   "cell_type": "markdown",
   "metadata": {},
   "source": [
    "## Explore proteins"
   ]
  },
  {
   "cell_type": "code",
   "execution_count": 6,
   "metadata": {},
   "outputs": [
    {
     "name": "stdout",
     "output_type": "stream",
     "text": [
      "Nucleocapsid Phosphoprotein--> MSDNGPQNQRNAPRITFGGPSDSTGSNQNGERSGARSKQRRPQGLPNNTASWFTALTQHGKEDLKFPRGQGVPINTNSSPDDQIGYYRRATRRIRGGDGKMKDLSPRWYFYYLGTGPEAGLPYGANKDGIIWVATEGALNTPKDHIGTRNPANNAAIVLQLPQGTTLPKGFYAEGSRGGSQASSRSSSRSRNSSRNSTPGSSRGTSPARMAGNGGDAALALLLLDRLNQLESKMSGKGQQQQGQTVTKKSAAEASKKPRQKRTATKAYNVTQAFGRRGPEQTQGNFGDQELIRQGTDYKHWPQIAQFAPSASAFFGMSRIGMEVTPSGTWLTYTGAIKLDDKDPNFKDQVILLNKHIDAYKTFPPTEPKKDKKKKADETQALPQRQKKQQTVTLLPAADLDDFSKQLQQSMSSADSTQA\n"
     ]
    }
   ],
   "source": [
    "!python ../COVID19/corona/corona-mutate-np.py"
   ]
  },
  {
   "cell_type": "code",
   "execution_count": 7,
   "metadata": {},
   "outputs": [
    {
     "name": "stdout",
     "output_type": "stream",
     "text": [
      "Membrane Glycoprotein--> MADSNGTITVEELKKLLEQWNLVIGFLFLTWICLLQFAYANRNRFLYIIKLIFLWLLWPVTLACFVLAAVYRINWITGGIAIAMACLVGLMWLSYFIASFRLFARTRSMWSFNPETNILLNVPLHGTILTRPLLESELVIGAVILRGHLRIAGHHLGRCDIKDLPKEITVATSRTLSYYKLGASQRVAGDSGFAAYSRYRIGNYKLNTDHSSSSDNIALLVQ\n"
     ]
    }
   ],
   "source": [
    "!python ../COVID19/corona/corona-mutate-mg.py"
   ]
  },
  {
   "cell_type": "code",
   "execution_count": 8,
   "metadata": {},
   "outputs": [
    {
     "name": "stdout",
     "output_type": "stream",
     "text": [
      "Envelope Protein also known as small membrane--> MYSFVSEETGTLIVNSVLLFLAFVVFLLVTLAILTALRLCAYCCNIVNVSLVKPSFYVYSRVKNLNSSRVPDLLV\n"
     ]
    }
   ],
   "source": [
    "!python ../COVID19/corona/corona-mutate-ep.py"
   ]
  },
  {
   "cell_type": "code",
   "execution_count": 9,
   "metadata": {},
   "outputs": [
    {
     "name": "stdout",
     "output_type": "stream",
     "text": [
      "Spike Glycoprotein--> MFVFLVLLPLVSSQCVNLTTRTQLPPAYTNSFTRGVYYPDKVFRSSVLHSTQDLFLPFFSNVTWFHAIHVSGTNGTKRFDNPVLPFNDGVYFASTEKSNIIRGWIFGTTLDSKTQSLLIVNNATNVVIKVCEFQFCNDPFLGVYYHKNNKSWMESEFRVYSSANNCTFEYVSQPFLMDLEGKQGNFKNLREFVFKNIDGYFKIYSKHTPINLVRDLPQGFSALEPLVDLPIGINITRFQTLLALHRSYLTPGDSSSGWTAGAAAYYVGYLQPRTFLLKYNENGTITDAVDCALDPLSETKCTLKSFTVEKGIYQTSNFRVQPTESIVRFPNITNLCPFGEVFNATRFASVYAWNRKRISNCVADYSVLYNSASFSTFKCYGVSPTKLNDLCFTNVYADSFVIRGDEVRQIAPGQTGKIADYNYKLPDDFTGCVIAWNSNNLDSKVGGNYNYLYRLFRKSNLKPFERDISTEIYQAGSTPCNGVEGFNCYFPLQSYGFQPTNGVGYQPYRVVVLSFELLHAPATVCGPKKSTNLVKNKCVNFNFNGLTGTGVLTESNKKFLPFQQFGRDIADTTDAVRDPQTLEILDITPCSFGGVSVITPGTNTSNQVAVLYQDVNCTEVPVAIHADQLTPTWRVYSTGSNVFQTRAGCLIGAEHVNNSYECDIPIGAGICASYQTQTNSPRRARSVASQSIIAYTMSLGAENSVAYSNNSIAIPTNFTISVTTEILPVSMTKTSVDCTMYICGDSTECSNLLLQYGSFCTQLNRALTGIAVEQDKNTQEVFAQVKQIYKTPPIKDFGGFNFSQILPDPSKPSKRSFIEDLLFNKVTLADAGFIKQYGDCLGDIAARDLICAQKFNGLTVLPPLLTDEMIAQYTSALLAGTITSGWTFGAGAALQIPFAMQMAYRFNGIGVTQNVLYENQKLIANQFNSAIGKIQDSLSSTASALGKLQDVVNQNAQALNTLVKQLSSNFGAISSVLNDILSRLDKVEAEVQIDRLITGRLQSLQTYVTQQLIRAAEIRASANLAATKMSECVLGQSKRVDFCGKGYHLMSFPQSAPHGVVFLHVTYVPAQEKNFTTAPAICHDGKAHFPREGVFVSNGTHWFVTQRNFYEPQIITTDNTFVSGNCDVVIGIVNNTVYDPLQPELDSFKEELDKYFKNHTSPDVDLGDISGINASVVNIQKEIDRLNEVAKNLNESLIDLQELGKYEQYIKWPWYIWLGFIAGLIAIVMVTIMLCCMTSCCSCLKGCCSCGSCCKFDEDDSEPVLKGVKLHYT\n"
     ]
    }
   ],
   "source": [
    "!python ../COVID19/corona/corona-mutate-spike.py"
   ]
  },
  {
   "cell_type": "markdown",
   "metadata": {},
   "source": [
    "# Generate new peptide candidates"
   ]
  },
  {
   "cell_type": "code",
   "execution_count": 10,
   "metadata": {},
   "outputs": [
    {
     "name": "stdout",
     "output_type": "stream",
     "text": [
      "+++++++++++++++++++++++++++++++++++++\n",
      "                                     \n",
      "+++++++++++++++++++++++++++++++++++++\n",
      "Spike Glycoprotein peptides MFVFLVLL\n",
      "Spike Glycoprotein peptides FVFLVLLP\n",
      "Spike Glycoprotein peptides VFLVLLPL\n",
      "Spike Glycoprotein peptides FLVLLPLV\n",
      "Spike Glycoprotein peptides LVLLPLVS\n",
      "Spike Glycoprotein peptides VLLPLVSS\n",
      "Spike Glycoprotein peptides LLPLVSSQ\n",
      "Spike Glycoprotein peptides LPLVSSQC\n",
      "Spike Glycoprotein peptides PLVSSQCV\n",
      "Spike Glycoprotein peptides LVSSQCVN\n",
      "........\n",
      "+++++++++++++++++++++++++++++++++++++\n",
      "                                     \n",
      "+++++++++++++++++++++++++++++++++++++\n"
     ]
    }
   ],
   "source": [
    "!python ../COVID19/corona/corona-mutate-peptides.py"
   ]
  },
  {
   "cell_type": "markdown",
   "metadata": {},
   "source": [
    "## This candidates added to Big Query warehous for further exploration"
   ]
  },
  {
   "cell_type": "markdown",
   "metadata": {},
   "source": [
    "## Test candidate\n",
    "+ Use model to predict binding score. Sent to prediction to BQ model\n",
    "+ Spike Glycoprotein peptides MFVFLVLL\n",
    "+ Spike Glycoprotein peptides FVFLVLLP\n",
    "+ Spike Glycoprotein peptides VFLVLLPL\n",
    "+ Spike Glycoprotein peptides FLVLLPLV\n",
    "+ Spike Glycoprotein peptides LVLLPLVS\n",
    "+ Spike Glycoprotein peptides VLLPLVSS\n",
    "+ We need a function to convert peptide sequence into position"
   ]
  },
  {
   "cell_type": "code",
   "execution_count": 1,
   "metadata": {},
   "outputs": [
    {
     "name": "stdout",
     "output_type": "stream",
     "text": [
      "GCP project ID:covid-19-271622\n"
     ]
    }
   ],
   "source": [
    "# Read GCP project id from env.\n",
    "shell_output=!gcloud config list --format 'value(core.project)' 2>/dev/null\n",
    "GCP_PROJECT_ID=shell_output[0]\n",
    "print(\"GCP project ID:\" + GCP_PROJECT_ID)"
   ]
  },
  {
   "cell_type": "code",
   "execution_count": 2,
   "metadata": {},
   "outputs": [
    {
     "data": {
      "text/html": [
       "<div>\n",
       "<style scoped>\n",
       "    .dataframe tbody tr th:only-of-type {\n",
       "        vertical-align: middle;\n",
       "    }\n",
       "\n",
       "    .dataframe tbody tr th {\n",
       "        vertical-align: top;\n",
       "    }\n",
       "\n",
       "    .dataframe thead th {\n",
       "        text-align: right;\n",
       "    }\n",
       "</style>\n",
       "<table border=\"1\" class=\"dataframe\">\n",
       "  <thead>\n",
       "    <tr style=\"text-align: right;\">\n",
       "      <th></th>\n",
       "      <th>predicted_Qualitative_Measure</th>\n",
       "      <th>predicted_Qualitative_Measure_probs</th>\n",
       "    </tr>\n",
       "  </thead>\n",
       "  <tbody>\n",
       "    <tr>\n",
       "      <th>0</th>\n",
       "      <td>Negative</td>\n",
       "      <td>[{'label': 'Negative', 'prob': 0.6738800377700...</td>\n",
       "    </tr>\n",
       "    <tr>\n",
       "      <th>1</th>\n",
       "      <td>Negative</td>\n",
       "      <td>[{'label': 'Negative', 'prob': 0.9635276095008...</td>\n",
       "    </tr>\n",
       "    <tr>\n",
       "      <th>2</th>\n",
       "      <td>Positive-High</td>\n",
       "      <td>[{'label': 'Positive-High', 'prob': 0.46056586...</td>\n",
       "    </tr>\n",
       "    <tr>\n",
       "      <th>3</th>\n",
       "      <td>Positive-Low</td>\n",
       "      <td>[{'label': 'Positive-Low', 'prob': 0.532463634...</td>\n",
       "    </tr>\n",
       "    <tr>\n",
       "      <th>4</th>\n",
       "      <td>Negative</td>\n",
       "      <td>[{'label': 'Negative', 'prob': 0.6780001404049...</td>\n",
       "    </tr>\n",
       "    <tr>\n",
       "      <th>5</th>\n",
       "      <td>Negative</td>\n",
       "      <td>[{'label': 'Negative', 'prob': 0.8677607544723...</td>\n",
       "    </tr>\n",
       "    <tr>\n",
       "      <th>6</th>\n",
       "      <td>Positive-High</td>\n",
       "      <td>[{'label': 'Positive-High', 'prob': 0.65847685...</td>\n",
       "    </tr>\n",
       "    <tr>\n",
       "      <th>7</th>\n",
       "      <td>Negative</td>\n",
       "      <td>[{'label': 'Negative', 'prob': 0.5389173371441...</td>\n",
       "    </tr>\n",
       "    <tr>\n",
       "      <th>8</th>\n",
       "      <td>Positive-Intermediate</td>\n",
       "      <td>[{'label': 'Positive-Intermediate', 'prob': 0....</td>\n",
       "    </tr>\n",
       "    <tr>\n",
       "      <th>9</th>\n",
       "      <td>Negative</td>\n",
       "      <td>[{'label': 'Negative', 'prob': 0.9781610480438...</td>\n",
       "    </tr>\n",
       "    <tr>\n",
       "      <th>10</th>\n",
       "      <td>Positive-High</td>\n",
       "      <td>[{'label': 'Positive-High', 'prob': 0.63141849...</td>\n",
       "    </tr>\n",
       "    <tr>\n",
       "      <th>11</th>\n",
       "      <td>Positive-High</td>\n",
       "      <td>[{'label': 'Positive-High', 'prob': 0.63782289...</td>\n",
       "    </tr>\n",
       "  </tbody>\n",
       "</table>\n",
       "</div>"
      ],
      "text/plain": [
       "   predicted_Qualitative_Measure  \\\n",
       "0                       Negative   \n",
       "1                       Negative   \n",
       "2                  Positive-High   \n",
       "3                   Positive-Low   \n",
       "4                       Negative   \n",
       "5                       Negative   \n",
       "6                  Positive-High   \n",
       "7                       Negative   \n",
       "8          Positive-Intermediate   \n",
       "9                       Negative   \n",
       "10                 Positive-High   \n",
       "11                 Positive-High   \n",
       "\n",
       "                  predicted_Qualitative_Measure_probs  \n",
       "0   [{'label': 'Negative', 'prob': 0.6738800377700...  \n",
       "1   [{'label': 'Negative', 'prob': 0.9635276095008...  \n",
       "2   [{'label': 'Positive-High', 'prob': 0.46056586...  \n",
       "3   [{'label': 'Positive-Low', 'prob': 0.532463634...  \n",
       "4   [{'label': 'Negative', 'prob': 0.6780001404049...  \n",
       "5   [{'label': 'Negative', 'prob': 0.8677607544723...  \n",
       "6   [{'label': 'Positive-High', 'prob': 0.65847685...  \n",
       "7   [{'label': 'Negative', 'prob': 0.5389173371441...  \n",
       "8   [{'label': 'Positive-Intermediate', 'prob': 0....  \n",
       "9   [{'label': 'Negative', 'prob': 0.9781610480438...  \n",
       "10  [{'label': 'Positive-High', 'prob': 0.63141849...  \n",
       "11  [{'label': 'Positive-High', 'prob': 0.63782289...  "
      ]
     },
     "execution_count": 2,
     "metadata": {},
     "output_type": "execute_result"
    }
   ],
   "source": [
    "%%bigquery --project $GCP_PROJECT_ID\n",
    "SELECT\n",
    "  predicted_Qualitative_Measure, predicted_Qualitative_Measure_probs \n",
    "FROM ML.PREDICT(MODEL `corona.Classification_model_P2`, (\n",
    "  SELECT Qualitative_Measure, Description, Allele_Name, Quantitative_measurement\n",
    "  FROM `bigquery-public-data.immune_epitope_db.mhc_ligand_full`\n",
    "  WHERE length(Description) IN (9,10)\n",
    "  AND organism_name like '%coronavirus%'\n",
    "  AND rand() < 0.0009))"
   ]
  },
  {
   "cell_type": "code",
   "execution_count": null,
   "metadata": {},
   "outputs": [],
   "source": []
  }
 ],
 "metadata": {
  "kernelspec": {
   "display_name": "Python 3",
   "language": "python",
   "name": "python3"
  },
  "language_info": {
   "codemirror_mode": {
    "name": "ipython",
    "version": 3
   },
   "file_extension": ".py",
   "mimetype": "text/x-python",
   "name": "python",
   "nbconvert_exporter": "python",
   "pygments_lexer": "ipython3",
   "version": "3.7.6"
  }
 },
 "nbformat": 4,
 "nbformat_minor": 4
}
