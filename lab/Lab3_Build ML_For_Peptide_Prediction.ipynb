{
 "cells": [
  {
   "cell_type": "markdown",
   "metadata": {},
   "source": [
    "# Lab3: Peptide Prediction with BigQuery AutoML (Based on Lab2)\n",
    "\n",
    "### Supporting research: Covid19 and beyond for vaccine candidates \n",
    "\n",
    "BigQuery ML enables users to create and execute machine learning models in BigQuery using SQL queries. The goal is to democratize machine learning by enabling SQL practitioners to build models using their existing tools and to increase development speed by eliminating the need for data movement.\n",
    "In this tutorial, you use the sample Covid19 dataset for BigQuery.\n",
    "Comments & Feedback @jigmehta\n",
    "## Objectives\n",
    "In this tutorial, you will use BigQuery to explore immunological data, AutoML to automatically generate ML model for peptide binding. Also, you will leverage BQML to explore vareous ML models and perform feature engineering:\n",
    "+ BigQuery `ML.CREATE` to create a classification model using the `CREATE MODEL` statement\n",
    "+ The `ML.EVALUATE` function to evaluate the ML model\n",
    "+ Use `ML.TRANSFORM`feature engineering functions to improve model performance\n",
    "+ The `ML.PREDICT` function to make predictions using the ML model"
   ]
  },
  {
   "cell_type": "markdown",
   "metadata": {},
   "source": [
    "# AutoML to explore classification model\n",
    "Now as we explored Classification model, we might be interested to explore what other models can we used to make better prediction. \n",
    "GCP provide a service AutoML \n",
    "which allow scientist to submit their data and \n",
    "to explore vareous ML models.\n",
    "+ [AutoML models](https://pantheon.corp.google.com/automl-tables/locations/us-central1/datasets/TBL8658818995480166400;modelId=TBL2508683113329065984;task=basic/schemav2?project=covid-19-271622) can be explored through GCP console\n",
    "+ You can also call [AutoML from BQML](https://cloud.google.com/bigquery-ml/docs/reference/standard-sql/bigqueryml-syntax-create-automl)\n"
   ]
  },
  {
   "cell_type": "code",
   "execution_count": 89,
   "metadata": {},
   "outputs": [
    {
     "name": "stdout",
     "output_type": "stream",
     "text": [
      "GCP project ID:covid-19-271622\n"
     ]
    }
   ],
   "source": [
    "# Read GCP project id from env.\n",
    "shell_output=!gcloud config list --format 'value(core.project)' 2>/dev/null\n",
    "GCP_PROJECT_ID=shell_output[0]\n",
    "print(\"GCP project ID:\" + GCP_PROJECT_ID)"
   ]
  },
  {
   "cell_type": "markdown",
   "metadata": {},
   "source": [
    "\n",
    "# Leverage AutoML to build the model\n",
    "\n",
    "Building ML models with BigQuery AutoML is as simple as writing SQL statements; makes ML modeling accessible to even SQL developers and analysts. We will create a model to predict for a given peptide if there is strong binding affinity with certain HLA Allele.\n",
    "\n",
    "Following statement creates a classification model using logistic regression. We are selecting feature columns of Allele and peptide of specific mers to classify if a peptide is a good candidate for vaccine testing.\n",
    "\n",
    "    Note: we are filtering data for peptides with length of 9 or 10 mers only. Also, since we run multiple samples, we are randomizing samples by 80% of data for learning.\n",
    "\n"
   ]
  },
  {
   "cell_type": "code",
   "execution_count": null,
   "metadata": {},
   "outputs": [
    {
     "name": "stdout",
     "output_type": "stream",
     "text": [
      "Executing query with job ID: 24aedef0-30ae-4afe-ae1f-3e0a37f5211f\n",
      "Query executing: 130.35s"
     ]
    }
   ],
   "source": [
    "%%bigquery --project $GCP_PROJECT_ID\n",
    "CREATE OR REPLACE MODEL `corona.Classification_model_automl`\n",
    "OPTIONS\n",
    "(\n",
    "model_type='automl_classifier',\n",
    "input_label_cols=['Qualitative_Measure'],\n",
    "budget_hours=1.0\n",
    ")\n",
    "AS\n",
    "SELECT\n",
    " Qualitative_Measure, Description, Allele_Name, Quantitative_measurement\n",
    " FROM\n",
    "  `bigquery-public-data.immune_epitope_db.mhc_ligand_full`\n",
    " WHERE length(Description) IN (9,10)\n",
    " AND organism_name like '%coronavirus%'\n",
    " AND rand() < 0.8"
   ]
  },
  {
   "cell_type": "markdown",
   "metadata": {},
   "source": [
    "### It will take an hour to run"
   ]
  },
  {
   "cell_type": "markdown",
   "metadata": {},
   "source": [
    "\n",
    "# Evaluate your model\n",
    "\n",
    "After creating your model, you evaluate the performance of the classifier using the ML.EVALUATE function. You can also use the ML.ROC_CURVE function for specific metrics.\n",
    "\n",
    "A classifier is one of a set of enumerated target values for a label. For example, in this tutorial you are using a classification model that detects one of the qualification class for peptide binding.\n",
    "\n",
    "To run the ML.EVALUATE query that evaluates the model:\n"
   ]
  },
  {
   "cell_type": "code",
   "execution_count": 97,
   "metadata": {},
   "outputs": [
    {
     "data": {
      "text/html": [
       "<div>\n",
       "<style scoped>\n",
       "    .dataframe tbody tr th:only-of-type {\n",
       "        vertical-align: middle;\n",
       "    }\n",
       "\n",
       "    .dataframe tbody tr th {\n",
       "        vertical-align: top;\n",
       "    }\n",
       "\n",
       "    .dataframe thead th {\n",
       "        text-align: right;\n",
       "    }\n",
       "</style>\n",
       "<table border=\"1\" class=\"dataframe\">\n",
       "  <thead>\n",
       "    <tr style=\"text-align: right;\">\n",
       "      <th></th>\n",
       "      <th>precision</th>\n",
       "      <th>recall</th>\n",
       "      <th>accuracy</th>\n",
       "      <th>f1_score</th>\n",
       "      <th>log_loss</th>\n",
       "      <th>roc_auc</th>\n",
       "    </tr>\n",
       "  </thead>\n",
       "  <tbody>\n",
       "    <tr>\n",
       "      <th>0</th>\n",
       "      <td>0.918101</td>\n",
       "      <td>0.814754</td>\n",
       "      <td>0.990113</td>\n",
       "      <td>0.825492</td>\n",
       "      <td>0.082136</td>\n",
       "      <td>0.987235</td>\n",
       "    </tr>\n",
       "  </tbody>\n",
       "</table>\n",
       "</div>"
      ],
      "text/plain": [
       "   precision    recall  accuracy  f1_score  log_loss   roc_auc\n",
       "0   0.918101  0.814754  0.990113  0.825492  0.082136  0.987235"
      ]
     },
     "execution_count": 97,
     "metadata": {},
     "output_type": "execute_result"
    }
   ],
   "source": [
    "%%bigquery --project $GCP_PROJECT_ID\n",
    "SELECT\n",
    "  *\n",
    "FROM ML.EVALUATE(MODEL `corona.Classification_model_automl`)"
   ]
  },
  {
   "cell_type": "code",
   "execution_count": 98,
   "metadata": {},
   "outputs": [
    {
     "data": {
      "text/html": [
       "<div>\n",
       "<style scoped>\n",
       "    .dataframe tbody tr th:only-of-type {\n",
       "        vertical-align: middle;\n",
       "    }\n",
       "\n",
       "    .dataframe tbody tr th {\n",
       "        vertical-align: top;\n",
       "    }\n",
       "\n",
       "    .dataframe thead th {\n",
       "        text-align: right;\n",
       "    }\n",
       "</style>\n",
       "<table border=\"1\" class=\"dataframe\">\n",
       "  <thead>\n",
       "    <tr style=\"text-align: right;\">\n",
       "      <th></th>\n",
       "      <th>roc_auc</th>\n",
       "      <th>model_quality</th>\n",
       "    </tr>\n",
       "  </thead>\n",
       "  <tbody>\n",
       "    <tr>\n",
       "      <th>0</th>\n",
       "      <td>0.987235</td>\n",
       "      <td>good</td>\n",
       "    </tr>\n",
       "  </tbody>\n",
       "</table>\n",
       "</div>"
      ],
      "text/plain": [
       "    roc_auc model_quality\n",
       "0  0.987235          good"
      ]
     },
     "execution_count": 98,
     "metadata": {},
     "output_type": "execute_result"
    }
   ],
   "source": [
    "%%bigquery --project $GCP_PROJECT_ID\n",
    "SELECT roc_auc,\n",
    "       CASE WHEN roc_auc > .8 THEN 'good'\n",
    "            WHEN roc_auc > .7 THEN 'fair'\n",
    "            WHEN roc_auc > .5 THEN 'not great'\n",
    "            ELSE 'poor' END AS model_quality\n",
    "FROM ML.EVALUATE(MODEL `corona.Classification_model_automl`)"
   ]
  },
  {
   "cell_type": "markdown",
   "metadata": {},
   "source": [
    "# You can check vareous models explored by AutoML \n",
    "+ AutoML keep [log](https://pantheon.corp.google.com/automl-tables/locations/us-central1/datasets/TBL8658818995480166400;modelId=TBL2508683113329065984;task=basic/train?project=covid-19-271622) of all model configurations it explored\n",
    "+ [Models](https://pantheon.corp.google.com/logs/query;query=resource.type%3D%22cloudml_job%22%20resource.labels.job_id%3D%22TBL2508683113329065984%22%20resource.labels.project_id%3D%22covid-19-271622%22%20labels.log_type%3D%22automl_tables%22%20jsonPayload.%22@type%22%3D%22type.googleapis.com%2Fgoogle.cloud.automl.master.TablesModelStructure%22?project=covid-19-271622)\n",
    "+ [Trials](https://pantheon.corp.google.com/logs/query;query=resource.type%3D%22cloudml_job%22%20resource.labels.job_id%3D%22TBL2508683113329065984%22%20resource.labels.project_id%3D%22covid-19-271622%22%20labels.log_type%3D%22automl_tables%22%20jsonPayload.%22@type%22%3D%22type.googleapis.com%2Fgoogle.cloud.automl.master.TuningTrial%22?project=covid-19-271622)"
   ]
  },
  {
   "cell_type": "markdown",
   "metadata": {},
   "source": [
    "\n",
    "# Run Prediction on BQML Model\n",
    "\n",
    "Now that you have evaluated your model, the next step is to use it to predict outcomes.\n",
    "\n",
    "To run the query that uses the model to predict the number of transactions: Following example demonstrate leveraging BQ model for prediction. Optionally, you can export model and publish it on to Google AI Platform for serving prediction.\n"
   ]
  },
  {
   "cell_type": "code",
   "execution_count": 99,
   "metadata": {},
   "outputs": [
    {
     "data": {
      "text/html": [
       "<div>\n",
       "<style scoped>\n",
       "    .dataframe tbody tr th:only-of-type {\n",
       "        vertical-align: middle;\n",
       "    }\n",
       "\n",
       "    .dataframe tbody tr th {\n",
       "        vertical-align: top;\n",
       "    }\n",
       "\n",
       "    .dataframe thead th {\n",
       "        text-align: right;\n",
       "    }\n",
       "</style>\n",
       "<table border=\"1\" class=\"dataframe\">\n",
       "  <thead>\n",
       "    <tr style=\"text-align: right;\">\n",
       "      <th></th>\n",
       "      <th>predicted_Qualitative_Measure</th>\n",
       "      <th>predicted_Qualitative_Measure_probs</th>\n",
       "      <th>original_result</th>\n",
       "    </tr>\n",
       "  </thead>\n",
       "  <tbody>\n",
       "    <tr>\n",
       "      <th>0</th>\n",
       "      <td>Positive-High</td>\n",
       "      <td>[{'label': 'Negative', 'prob': 0.0002618547005...</td>\n",
       "      <td>Positive-High</td>\n",
       "    </tr>\n",
       "    <tr>\n",
       "      <th>1</th>\n",
       "      <td>Positive-Intermediate</td>\n",
       "      <td>[{'label': 'Negative', 'prob': 6.1814935179427...</td>\n",
       "      <td>Positive-Intermediate</td>\n",
       "    </tr>\n",
       "    <tr>\n",
       "      <th>2</th>\n",
       "      <td>Positive-Intermediate</td>\n",
       "      <td>[{'label': 'Negative', 'prob': 0.0001175400393...</td>\n",
       "      <td>Positive-Intermediate</td>\n",
       "    </tr>\n",
       "    <tr>\n",
       "      <th>3</th>\n",
       "      <td>Positive-High</td>\n",
       "      <td>[{'label': 'Negative', 'prob': 0.0009793316712...</td>\n",
       "      <td>Positive-High</td>\n",
       "    </tr>\n",
       "    <tr>\n",
       "      <th>4</th>\n",
       "      <td>Negative</td>\n",
       "      <td>[{'label': 'Negative', 'prob': 0.5235264301300...</td>\n",
       "      <td>Negative</td>\n",
       "    </tr>\n",
       "    <tr>\n",
       "      <th>5</th>\n",
       "      <td>Positive-Intermediate</td>\n",
       "      <td>[{'label': 'Negative', 'prob': 0.0002878189261...</td>\n",
       "      <td>Positive-Intermediate</td>\n",
       "    </tr>\n",
       "    <tr>\n",
       "      <th>6</th>\n",
       "      <td>Positive-High</td>\n",
       "      <td>[{'label': 'Negative', 'prob': 0.0004914508899...</td>\n",
       "      <td>Positive-High</td>\n",
       "    </tr>\n",
       "    <tr>\n",
       "      <th>7</th>\n",
       "      <td>Negative</td>\n",
       "      <td>[{'label': 'Negative', 'prob': 0.7932363152503...</td>\n",
       "      <td>Negative</td>\n",
       "    </tr>\n",
       "  </tbody>\n",
       "</table>\n",
       "</div>"
      ],
      "text/plain": [
       "  predicted_Qualitative_Measure  \\\n",
       "0                 Positive-High   \n",
       "1         Positive-Intermediate   \n",
       "2         Positive-Intermediate   \n",
       "3                 Positive-High   \n",
       "4                      Negative   \n",
       "5         Positive-Intermediate   \n",
       "6                 Positive-High   \n",
       "7                      Negative   \n",
       "\n",
       "                 predicted_Qualitative_Measure_probs        original_result  \n",
       "0  [{'label': 'Negative', 'prob': 0.0002618547005...          Positive-High  \n",
       "1  [{'label': 'Negative', 'prob': 6.1814935179427...  Positive-Intermediate  \n",
       "2  [{'label': 'Negative', 'prob': 0.0001175400393...  Positive-Intermediate  \n",
       "3  [{'label': 'Negative', 'prob': 0.0009793316712...          Positive-High  \n",
       "4  [{'label': 'Negative', 'prob': 0.5235264301300...               Negative  \n",
       "5  [{'label': 'Negative', 'prob': 0.0002878189261...  Positive-Intermediate  \n",
       "6  [{'label': 'Negative', 'prob': 0.0004914508899...          Positive-High  \n",
       "7  [{'label': 'Negative', 'prob': 0.7932363152503...               Negative  "
      ]
     },
     "execution_count": 99,
     "metadata": {},
     "output_type": "execute_result"
    }
   ],
   "source": [
    "%%bigquery --project $GCP_PROJECT_ID\n",
    "SELECT\n",
    "  predicted_Qualitative_Measure, predicted_Qualitative_Measure_probs, Qualitative_Measure as original_result\n",
    "FROM ML.PREDICT(MODEL `corona.Classification_model_automl`, (\n",
    "  SELECT Qualitative_Measure, Description, Allele_Name, Quantitative_measurement\n",
    "  FROM `bigquery-public-data.immune_epitope_db.mhc_ligand_full`\n",
    "  WHERE length(Description) IN (9,10)\n",
    "  AND organism_name like '%coronavirus%'\n",
    "  AND rand() < 0.0009))"
   ]
  },
  {
   "cell_type": "markdown",
   "metadata": {},
   "source": [
    "The result shows predicted quality class with confidence. You can compare that with original result. Next step is to operationalize ML pipeline so that you can efficiently perform data updates and model updates. Check out AI Pipeline example for peptide prediction to learn more!\n",
    "\n",
    "### This is end of Lab3! Congratualtions!"
   ]
  },
  {
   "cell_type": "code",
   "execution_count": null,
   "metadata": {},
   "outputs": [],
   "source": []
  }
 ],
 "metadata": {
  "kernelspec": {
   "display_name": "Python 3",
   "language": "python",
   "name": "python3"
  },
  "language_info": {
   "codemirror_mode": {
    "name": "ipython",
    "version": 3
   },
   "file_extension": ".py",
   "mimetype": "text/x-python",
   "name": "python",
   "nbconvert_exporter": "python",
   "pygments_lexer": "ipython3",
   "version": "3.7.6"
  }
 },
 "nbformat": 4,
 "nbformat_minor": 4
}
