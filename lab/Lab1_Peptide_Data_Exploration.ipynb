{
 "cells": [
  {
   "cell_type": "markdown",
   "metadata": {},
   "source": [
    "# Lab1: Data Exploration with BigQuery\n",
    "\n",
    "### Supporting research: Covid19 vaccine and beyond\n",
    "\n",
    "BigQuery is serverless, highly scalable, and cost-effective cloud data warehouse designed for business agility. BQ enables us to analyze petabytes of data using standard ANSI SQL at blazing-fast speeds, with zero operational overhead. BigQuery ML enables users to create and execute machine learning models within BigQuery using SQL queries. The goal is to democratize machine learning by enabling SQL practitioners to build models using their existing tools and to increase development speed by eliminating the need for data movement.\n",
    "\n",
    "In this tutorial, you use the peptidic epitope data available as BigQuery Public-Dataset. BigQuery provides many data set for public research for Covid19 and other genomic research. The peptidic epitope dataset is sourced from NIH's IEDB and are hosted by BigQuery.\n",
    "\n",
    "## Objectives\n",
    "In this tutorial, you use:\n",
    "+ BigQuery to explore antigen data for coronavirus\n",
    "+ Explore antigen dataset to understand protein structure distribution\n",
    "+ Analyze epitope dataset to investigate spike protein properties\n",
    "+ Visualize and explore peptides that are most likely to bind with MHC molecule"
   ]
  },
  {
   "cell_type": "markdown",
   "metadata": {},
   "source": [
    "Jupyter magics are notebook-specific shortcuts that allow you to run commands with minimal syntax. Jupyter notebooks come with many [built-in commands](https://ipython.readthedocs.io/en/stable/interactive/magics.html). The BigQuery client library, `google-cloud-bigquery`, provides a cell magic, `%%bigquery`. The `%%bigquery` magic runs a SQL query and returns the results as a pandas `DataFrame`."
   ]
  },
  {
   "cell_type": "markdown",
   "metadata": {},
   "source": [
    "## Step 1: Explore Peptidic Epitope Data\n",
    "You can create GCP project and leverage public data set which provides free access to many datasets and free query processing. See more information [here](https://cloud.google.com/bigquery/public-data).\n",
    "\n",
    "For our coronavirus subset of data, let's examine data first:\n",
    "+ Following query shows information about antigen.\n",
    "+ Observe specific antigen that might of more interest to our study for coronavirus.\n",
    "+ Can you find it?\n"
   ]
  },
  {
   "cell_type": "code",
   "execution_count": null,
   "metadata": {},
   "outputs": [],
   "source": [
    "# Read GCP project id from env.\n",
    "shell_output=!gcloud config list --format 'value(core.project)' 2>/dev/null\n",
    "GCP_PROJECT_ID=shell_output[0]\n",
    "#print(\"GCP project ID:\" + GCP_PROJECT_ID)"
   ]
  },
  {
   "cell_type": "code",
   "execution_count": null,
   "metadata": {},
   "outputs": [],
   "source": [
    "%%bigquery --project $GCP_PROJECT_ID\n",
    "SELECT * \n",
    "FROM `bigquery-public-data.immune_epitope_db.antigen_full_v3`\n",
    "WHERE organism_name like '%coronavirus%'\n",
    "LIMIT 10"
   ]
  },
  {
   "cell_type": "markdown",
   "metadata": {},
   "source": [
    "Visually inspect number of epitopes by antigen name in our dataset."
   ]
  },
  {
   "cell_type": "code",
   "execution_count": null,
   "metadata": {},
   "outputs": [],
   "source": [
    "%%bigquery epitopes --project $GCP_PROJECT_ID\n",
    "SELECT\n",
    " Antigen_Name,\n",
    " sum(number_of_epitopes) AS epitope\n",
    "FROM `bigquery-public-data.immune_epitope_db.antigen_full_v3`\n",
    "WHERE organism_name like '%coronavirus%'\n",
    "GROUP BY Antigen_Name\n",
    "ORDER BY epitope DESC"
   ]
  },
  {
   "cell_type": "code",
   "execution_count": null,
   "metadata": {},
   "outputs": [],
   "source": [
    "epitopes.plot(kind='bar', x='Antigen_Name', y='epitope');"
   ]
  },
  {
   "cell_type": "code",
   "execution_count": null,
   "metadata": {},
   "outputs": [],
   "source": [
    "# Following query shows epitope detail for those linear peptides whose parent protein\n",
    "# came from Spike glycoprotein, which is our interests to investigate for possible antigen\n",
    "# to protect against coronavirus\n"
   ]
  },
  {
   "cell_type": "code",
   "execution_count": null,
   "metadata": {},
   "outputs": [],
   "source": [
    "%%bigquery --project $GCP_PROJECT_ID\n",
    "SELECT epitope_iri, Object_Type, Description, Starting_Position,\n",
    "            Ending_Position, Antigen_Name,Parent_Protein, Organism_Name\n",
    "FROM `bigquery-public-data.immune_epitope_db.epitope_full_v3` \n",
    "WHERE Parent_Protein = 'Spike glycoprotein'\n",
    "AND organism_name like '%coronavirus%'\n",
    "LIMIT 10"
   ]
  },
  {
   "cell_type": "markdown",
   "metadata": {},
   "source": [
    "As you can see from the resulting query, we have a set of peptides generated from parent antigen protein. Now, we need to identify how these peptides bind with HLA molecule.\n",
    "\n",
    "Following query shows HLA-peptide binding affinity information. The goal is to leverage machine learning models to predict binding affinity for many different and new peptides with HLA MHC Class-I molecules so that testing for vaccine candidates can be prioritized to accelerate solutions.\n"
   ]
  },
  {
   "cell_type": "code",
   "execution_count": null,
   "metadata": {},
   "outputs": [],
   "source": [
    "%%bigquery --project $GCP_PROJECT_ID\n",
    "SELECT Reference_iri, Description, Allele_Name,MHC_allele_class, Assay_Group,\n",
    "       Qualitative_Measure, Quantitative_measurement \n",
    "FROM `bigquery-public-data.immune_epitope_db.mhc_ligand_full`\n",
    "WHERE pubmed_id = 15104671 \n",
    "LIMIT 3\n"
   ]
  },
  {
   "cell_type": "markdown",
   "metadata": {},
   "source": [
    "In our dataset there are multiple of alleles and, for each allele we have epitope binding affinity measure. Lete inspect how epitopes and allele bindings are distributed in the dataset. This is one way to short list possible allele to consider for peptide binding research.\n",
    "\n",
    "We will use dataframe to hold query result to build our visualization."
   ]
  },
  {
   "cell_type": "code",
   "execution_count": null,
   "metadata": {},
   "outputs": [],
   "source": [
    "from google.cloud import bigquery\n",
    "client = bigquery.Client()"
   ]
  },
  {
   "cell_type": "code",
   "execution_count": null,
   "metadata": {},
   "outputs": [],
   "source": [
    "sql = \"\"\"\n",
    "SELECT Qualitative_Measure, \n",
    "       Allele_Name, \n",
    "       count(1) as count \n",
    "FROM `bigquery-public-data.immune_epitope_db.mhc_ligand_full`\n",
    "where organism_name like '%coronavirus%'\n",
    "GROUP BY  1,2\n",
    "ORDER BY 3 DESC\n",
    "\"\"\"\n",
    "df = client.query(sql).to_dataframe()\n",
    "df.head()"
   ]
  },
  {
   "cell_type": "code",
   "execution_count": null,
   "metadata": {},
   "outputs": [],
   "source": [
    "pivot_table = df.pivot(index='Allele_Name', columns='Qualitative_Measure', values='count')\n",
    "pivot_table.plot(kind='bar', stacked=True, figsize=(15, 7));"
   ]
  },
  {
   "cell_type": "markdown",
   "metadata": {},
   "source": [
    "Based on data insepction, it seems like for coronavirus data set, HLA-A-01-01, HLA-A-02-01, HLA-A-02-02, HLA-A-02-03 and HLA-A-020-06 alleles are most likely candidates for MHC-I molecules.\n",
    "\n",
    "It is important to narrow down focus peptides and HLA binding to speed up testing on most probable vaccine candidate. Lets identify set of peptides that binds well with HLA, you can further narrow it to specific HLA as well. Following qury execution suggest that peptides with length of 9 and 10 are having better binding affinity. We should focus our research on those for now. Of course, more factors, features as well as 3D structure of aplha/beta components of HLA+Peptide bindings are useful for more complex modeling. "
   ]
  },
  {
   "cell_type": "code",
   "execution_count": null,
   "metadata": {},
   "outputs": [],
   "source": [
    "sql = \"\"\"\n",
    "SELECT Qualitative_Measure, \n",
    "       length(Description) as Peptide_Length, \n",
    "       count(1) as count \n",
    "FROM `bigquery-public-data.immune_epitope_db.mhc_ligand_full`\n",
    "where organism_name like '%coronavirus%'\n",
    "GROUP BY  1,2\n",
    "ORDER BY 3 DESC\n",
    "\"\"\"\n",
    "df = client.query(sql).to_dataframe()\n",
    "df.head()"
   ]
  },
  {
   "cell_type": "code",
   "execution_count": null,
   "metadata": {},
   "outputs": [],
   "source": [
    "pivot_table = df.pivot(index='Peptide_Length', columns='Qualitative_Measure', values='count')\n",
    "pivot_table.plot(kind='bar', stacked=False, figsize=(15, 7));"
   ]
  },
  {
   "cell_type": "markdown",
   "metadata": {},
   "source": [
    "Chart above demonstrate that peptide with length of 9 or 10 mers are most suitable and probable candidates to investigate further for affinity modeling.\n",
    "\n",
    "### This completes Lab1. Congratulations!"
   ]
  }
 ],
 "metadata": {
  "kernelspec": {
   "display_name": "Python 3",
   "language": "python",
   "name": "python3"
  },
  "language_info": {
   "codemirror_mode": {
    "name": "ipython",
    "version": 3
   },
   "file_extension": ".py",
   "mimetype": "text/x-python",
   "name": "python",
   "nbconvert_exporter": "python",
   "pygments_lexer": "ipython3",
   "version": "3.7.6"
  }
 },
 "nbformat": 4,
 "nbformat_minor": 4
}
