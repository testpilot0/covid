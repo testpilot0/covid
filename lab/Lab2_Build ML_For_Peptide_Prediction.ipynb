{
 "cells": [
  {
   "cell_type": "markdown",
   "metadata": {},
   "source": [
    "# Lab2: Peptide Prediction with BigQuery ML\n",
    "\n",
    "### Supporting research: Covid19 vaccine and beyond \n",
    "\n",
    "BigQuery is serverless, highly scalable, and cost-effective cloud data warehouse designed for business agility. BQ enables us to analyze petabytes of data using standard ANSI SQL at blazing-fast speeds, with zero operational overhead. BigQuery ML enables users to create and execute machine learning models within BigQuery using SQL queries. The goal is to democratize machine learning by enabling SQL practitioners to build models using their existing tools and to increase development speed by eliminating the need for data movement.\n",
    "\n",
    "In this tutorial, you use the peptidic epitope data available as BigQuery Public-Dataset. BigQuery provides many data set for public research for Covid19 and other genomic research. The peptidic epitope dataset is sourced from NIH's IEDB and are hosted by BigQuery.\n",
    "\n",
    "## Objectives\n",
    "In this tutorial, you use:\n",
    "+ BigQuery `ML.CREATE` to create a classification model using the `CREATE MODEL` statement\n",
    "+ The `ML.EVALUATE` function to evaluate the ML model\n",
    "+ Use `ML.TRANSFORM`feature engineering functions to improve model performance\n",
    "+ The `ML.PREDICT` function to make predictions using the ML model"
   ]
  },
  {
   "cell_type": "markdown",
   "metadata": {},
   "source": [
    "Jupyter magics are notebook-specific shortcuts that allow you to run commands with minimal syntax. Jupyter notebooks come with many [built-in commands](https://ipython.readthedocs.io/en/stable/interactive/magics.html). The BigQuery client library, `google-cloud-bigquery`, provides a cell magic, `%%bigquery`. The `%%bigquery` magic runs a SQL query and returns the results as a pandas `DataFrame`."
   ]
  },
  {
   "cell_type": "markdown",
   "metadata": {},
   "source": [
    "## Step 1: Validate GCP Poject and Setup\n",
    "Make sure you have completed Lab1 and have understood data attributes and peptide criteria we would use for our Machine Learning Model.\n",
    "\n",
    "You can create GCP project and leverage public data set which provides free access to many datasets and free query processing. See more information [here](https://cloud.google.com/bigquery/public-data).\n",
    "\n",
    "Lets make sure you have project setup which will be used to run queries against public dataset."
   ]
  },
  {
   "cell_type": "code",
   "execution_count": null,
   "metadata": {},
   "outputs": [],
   "source": [
    "# Read GCP project id from env.\n",
    "shell_output=!gcloud config list --format 'value(core.project)' 2>/dev/null\n",
    "GCP_PROJECT_ID=shell_output[0]\n",
    "print(\"GCP project ID:\" + GCP_PROJECT_ID)"
   ]
  },
  {
   "cell_type": "markdown",
   "metadata": {},
   "source": [
    "One can build feature table that translate Peotide Amino Acid sqquence into positioning columns. Explore amino acid properties table, it is prepared with allocation of acid sequnece number as well as additional properites that you can leverage for cross feature engineering."
   ]
  },
  {
   "cell_type": "code",
   "execution_count": null,
   "metadata": {},
   "outputs": [],
   "source": [
    "%%bigquery --project $GCP_PROJECT_ID\n",
    "SELECT *\n",
    "FROM `corona.amino_acid`"
   ]
  },
  {
   "cell_type": "markdown",
   "metadata": {},
   "source": [
    "The amino acid table is for informational purpose here but can be leveraged further for feature engineering for epitopes and docking prediction."
   ]
  },
  {
   "cell_type": "markdown",
   "metadata": {},
   "source": [
    "## Step 2: Build First Classification Model\n",
    "Building ML models with BigQuery is as simple as writing SQL statements; makes ML modeling accessible to even SQL developers and analysts. We will create a simple classification model to predict for a given peptide if there is strong binding affinity with certain HLA Allele.\n",
    "\n",
    "Following statement creates a classification model using logistic regression. We are selecting feature columns of Allele and peptide of specific mers to classify if a peptide is a good candidate for vaccine testing.\n",
    "\n",
    "+ Note: we are filtering data for peptides with length of 9 or 10 mers only. Also, since we run multiple samples, we are randomizing samples by 80% of data for learning.\n"
   ]
  },
  {
   "cell_type": "code",
   "execution_count": null,
   "metadata": {},
   "outputs": [],
   "source": [
    "%%bigquery --project $GCP_PROJECT_ID\n",
    "CREATE OR REPLACE MODEL `corona.Classification_model_P1`\n",
    "OPTIONS\n",
    "(\n",
    "model_type='logistic_reg',\n",
    "input_label_cols=['Qualitative_Measure']\n",
    ")\n",
    "AS\n",
    "SELECT\n",
    " Qualitative_Measure, Description, Allele_Name, Quantitative_measurement\n",
    " FROM\n",
    "  `bigquery-public-data.immune_epitope_db.mhc_ligand_full`\n",
    " WHERE length(Description) IN (9,10)\n",
    " AND organism_name like '%coronavirus%'\n",
    " AND Assay_Group = 'qualitative binding'\n",
    " AND rand() < 0.8"
   ]
  },
  {
   "cell_type": "markdown",
   "metadata": {},
   "source": [
    "The query takes several minutes to complete. After the first iteration is\n",
    "complete, your model (`Classification_model_P1`) appears in the navigation panel of the\n",
    "BigQuery web UI. Because the query uses a `CREATE MODEL` statement to create a\n",
    "table, you do not see query results. The output is an empty `DataFrame`."
   ]
  },
  {
   "cell_type": "markdown",
   "metadata": {},
   "source": [
    "## Get training statistics\n",
    "\n",
    "To see the results of the model training, you can use the\n",
    "[`ML.TRAINING_INFO`](https://cloud.google.com/bigquery/docs/reference/standard-sql/bigqueryml-syntax-train)\n",
    "function, or you can view the statistics in the BigQuery web UI.\n",
    "In this tutorial, you use the `ML.TRAINING_INFO` function.\n",
    "\n",
    "A machine learning algorithm builds a model by examining many examples and\n",
    "attempting to find a model that minimizes loss. This process is called empirical\n",
    "risk minimization.\n",
    "\n",
    "Loss is the penalty for a bad prediction &mdash; a number indicating\n",
    "how bad the model's prediction was on a single example. If the model's\n",
    "prediction is perfect, the loss is zero; otherwise, the loss is greater. The\n",
    "goal of training a model is to find a set of weights that have low\n",
    "loss, on average, across all examples.\n",
    "\n",
    "To see the model training statistics that were generated when you ran the\n",
    "`CREATE MODEL` query:"
   ]
  },
  {
   "cell_type": "code",
   "execution_count": null,
   "metadata": {},
   "outputs": [],
   "source": [
    "%%bigquery --project $GCP_PROJECT_ID\n",
    "SELECT\n",
    "  *\n",
    "FROM\n",
    "  ML.TRAINING_INFO(MODEL `corona.Classification_model_P1`)"
   ]
  },
  {
   "cell_type": "code",
   "execution_count": null,
   "metadata": {},
   "outputs": [],
   "source": [
    "%%bigquery loss_curve --project $GCP_PROJECT_ID\n",
    "SELECT\n",
    "  iteration, loss, eval_loss\n",
    "FROM\n",
    "  ML.TRAINING_INFO(MODEL `corona.Classification_model_P1`)\n",
    "ORDER BY iteration ASC"
   ]
  },
  {
   "cell_type": "code",
   "execution_count": null,
   "metadata": {},
   "outputs": [],
   "source": [
    "loss_curve.plot(x='iteration');"
   ]
  },
  {
   "cell_type": "markdown",
   "metadata": {},
   "source": [
    "The `loss` column represents the loss metric calculated after the given iteration\n",
    "on the training dataset. Since you performed a logistic regression, this column\n",
    "is the [log loss](https://en.wikipedia.org/wiki/Cross_entropy#Cross-entropy_error_function_and_logistic_regression).\n",
    "The `eval_loss` column is the same loss metric calculated on\n",
    "the holdout dataset (data that is held back from training to validate the model).\n",
    "\n",
    "For more details on the `ML.TRAINING_INFO` function, see the\n",
    "[BigQuery ML syntax reference](https://cloud.google.com/bigquery/docs/reference/standard-sql/bigqueryml-syntax-train)."
   ]
  },
  {
   "cell_type": "markdown",
   "metadata": {},
   "source": [
    "## Evaluate your model\n",
    "\n",
    "After creating your model, you evaluate the performance of the classifier using\n",
    "the [`ML.EVALUATE`](https://cloud.google.com/bigquery/docs/reference/standard-sql/bigqueryml-syntax-evaluate)\n",
    "function. You can also use the [`ML.ROC_CURVE`](https://cloud.google.com/bigquery/docs/reference/standard-sql/bigqueryml-syntax-roc)\n",
    "function for logistic regression specific metrics.\n",
    "\n",
    "A classifier is one of a set of enumerated target values for a label. For\n",
    "example, in this tutorial you are using a classification model that\n",
    "detects one of the qualification class for peptide binding.\n",
    "\n",
    "To run the `ML.EVALUATE` query that evaluates the model:"
   ]
  },
  {
   "cell_type": "code",
   "execution_count": null,
   "metadata": {},
   "outputs": [],
   "source": [
    "%%bigquery --project $GCP_PROJECT_ID\n",
    "SELECT\n",
    "  *\n",
    "FROM ML.EVALUATE(MODEL `corona.Classification_model_P1`)"
   ]
  },
  {
   "cell_type": "code",
   "execution_count": null,
   "metadata": {},
   "outputs": [],
   "source": [
    "%%bigquery --project $GCP_PROJECT_ID\n",
    "SELECT roc_auc,\n",
    "       CASE WHEN roc_auc > .8 THEN 'good'\n",
    "            WHEN roc_auc > .7 THEN 'fair'\n",
    "            WHEN roc_auc > .5 THEN 'not great'\n",
    "            ELSE 'poor' END AS model_quality\n",
    "FROM ML.EVALUATE(MODEL `corona.Classification_model_P1`)"
   ]
  },
  {
   "cell_type": "markdown",
   "metadata": {},
   "source": [
    "## Step 3: Improve Model Performance with Feature Engineering\n",
    "BigQuery offers many [transform / preprocessing](https://cloud.google.com/bigquery-ml/docs/reference/standard-sql/bigqueryml-preprocessing-functions) functions for feature engineering on data. Advantage of transform functions is that once you build a model with preprocessing as part of model definition, prediction data does not need to be prepared as the model will apply transformation for the input. Lets see one example of a transform feature and rebuild our model to check if we get better model performance.\n",
    "\n",
    "Following statement will create another classification model with preprocessing of the Quantitative_measurement to normalize its deviation with respect to min-max value of an attribute. Another example of feature engineering is commented with cross freature generation example.\n"
   ]
  },
  {
   "cell_type": "code",
   "execution_count": null,
   "metadata": {},
   "outputs": [],
   "source": [
    "%%bigquery --project $GCP_PROJECT_ID\n",
    "CREATE OR REPLACE MODEL `corona.Classification_model_P2`\n",
    "TRANSFORM (Qualitative_Measure, Description, Allele_Name,\n",
    "#           ML.FEATURE_CROSS(STRUCT(Description,Allele_Name)) AS mhc_peptide,\n",
    "           ML.MIN_MAX_SCALER(Quantitative_measurement) OVER() AS rs\n",
    ")\n",
    "OPTIONS\n",
    "(\n",
    "model_type='logistic_reg',\n",
    "input_label_cols=['Qualitative_Measure']\n",
    ")\n",
    "AS\n",
    "SELECT\n",
    " Qualitative_Measure, Description, Allele_Name, Quantitative_measurement\n",
    " FROM\n",
    "  `bigquery-public-data.immune_epitope_db.mhc_ligand_full`\n",
    " WHERE length(Description) IN (9,10)\n",
    " AND organism_name like '%coronavirus%'\n",
    " AND rand() < 0.8"
   ]
  },
  {
   "cell_type": "markdown",
   "metadata": {},
   "source": [
    "The query takes several minutes to complete. After the first iteration is\n",
    "complete, your model (`Classification_model_P2`) appears in the navigation panel of the\n",
    "BigQuery web UI. The output is an empty `DataFrame`.\n",
    "\n",
    "Check model performance after feature engineering, run the `ML.EVALUATE` query that evaluates the model:"
   ]
  },
  {
   "cell_type": "code",
   "execution_count": null,
   "metadata": {},
   "outputs": [],
   "source": [
    "%%bigquery loss_curve2 --project $GCP_PROJECT_ID\n",
    "SELECT\n",
    "  iteration, loss, eval_loss\n",
    "FROM\n",
    "  ML.TRAINING_INFO(MODEL `corona.Classification_model_P2`)\n",
    "ORDER BY iteration ASC"
   ]
  },
  {
   "cell_type": "code",
   "execution_count": null,
   "metadata": {},
   "outputs": [],
   "source": [
    "loss_curve2.plot(x='iteration');"
   ]
  },
  {
   "cell_type": "code",
   "execution_count": null,
   "metadata": {},
   "outputs": [],
   "source": [
    "%%bigquery --project $GCP_PROJECT_ID\n",
    "SELECT roc_auc,\n",
    "       CASE WHEN roc_auc > .8 THEN 'good'\n",
    "            WHEN roc_auc > .7 THEN 'fair'\n",
    "            WHEN roc_auc > .5 THEN 'not great'\n",
    "            ELSE 'poor' END AS model_quality\n",
    "FROM ML.EVALUATE(MODEL `corona.Classification_model_P2`)"
   ]
  },
  {
   "cell_type": "markdown",
   "metadata": {},
   "source": [
    "As you can see model performance has improved!\n",
    "\n",
    "With BigQuery you can take advantage of an already available highly powerful computer data processing and analysis platform to build a machine learning model, without moving your data! You can learn more about BQML here. For our data set, you can build a DNN_Regression model to predict the result_score for a peptide HLA binding. Try that as a practice!"
   ]
  },
  {
   "cell_type": "markdown",
   "metadata": {},
   "source": [
    "## Step 4: Run Prediction on BQML Model\n",
    "Now that you have evaluated your model, the next step is to use it to predict\n",
    "outcomes. \n",
    "\n",
    "To run the query that uses the model to predict the number of transactions:\n",
    "Following example demonstrate leveraging BQ model for prediction. Optionally, you can export model and publish it on to Google AI Platform for serving prediction.\n"
   ]
  },
  {
   "cell_type": "code",
   "execution_count": null,
   "metadata": {},
   "outputs": [],
   "source": [
    "%%bigquery --project $GCP_PROJECT_ID\n",
    "SELECT\n",
    "  predicted_Qualitative_Measure, predicted_Qualitative_Measure_probs, Qualitative_Measure as original_result\n",
    "FROM ML.PREDICT(MODEL `corona.Classification_model_P2`, (\n",
    "  SELECT Qualitative_Measure, Description, Allele_Name, Quantitative_measurement\n",
    "  FROM `bigquery-public-data.immune_epitope_db.mhc_ligand_full`\n",
    "  WHERE length(Description) IN (9,10)\n",
    "  AND organism_name like '%coronavirus%'\n",
    "  AND rand() < 0.0009))"
   ]
  },
  {
   "cell_type": "markdown",
   "metadata": {},
   "source": [
    "The result shows predicted quality class with confidence. You can compare that with original result. Next step is to operationalize ML pipeline so that you can efficiently perform data updates and model updates. Check out AI Pipeline example for peptide prediction to learn more!\n",
    "\n",
    "### This is end of Lab2! Congratualtions!"
   ]
  }
 ],
 "metadata": {
  "kernelspec": {
   "display_name": "Python 3",
   "language": "python",
   "name": "python3"
  },
  "language_info": {
   "codemirror_mode": {
    "name": "ipython",
    "version": 3
   },
   "file_extension": ".py",
   "mimetype": "text/x-python",
   "name": "python",
   "nbconvert_exporter": "python",
   "pygments_lexer": "ipython3",
   "version": "3.7.6"
  }
 },
 "nbformat": 4,
 "nbformat_minor": 4
}
